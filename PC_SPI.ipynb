{
 "cells": [
  {
   "cell_type": "code",
   "execution_count": 1,
   "metadata": {},
   "outputs": [],
   "source": [
    "import os\n",
    "import pandas as pd"
   ]
  },
  {
   "cell_type": "code",
   "execution_count": 3,
   "metadata": {},
   "outputs": [],
   "source": [
    "folder=r\"C:\\Users\\wou2\\OneDrive - University of Nebraska-Lincoln\\Sharedbyme_Wenqi\\2st_paper\\Data\\Drought Index\\SPI\"\n",
    "file=\"HPPRC.xlsx\"\n",
    "data=os.path.join(folder,file)"
   ]
  },
  {
   "cell_type": "code",
   "execution_count": 31,
   "metadata": {},
   "outputs": [
    {
     "data": {
      "image/png": "[encoded data removed]",
      "text/plain": [
       "<Figure size 432x288 with 1 Axes>"
      ]
     },
     "metadata": {
      "needs_background": "light"
     },
     "output_type": "display_data"
    }
   ],
   "source": [
    "df=pd.read_excel(data)\n",
    "df['Date']=pd.to_datetime(df['Date'])\n",
    "df[\"Year\"]=df['Date'].dt.year\n",
    "df_year=df[df[\"Year\"].isin([\"2003\",\"2005\",\"2007\",\"2009\",\"2011\",\"2013\",\"2015\",\"2017\",\"2019\"])]\n",
    "ax = df_year.plot.bar(x='Date', y='SPI', rot=2)"
   ]
  },
  {
   "cell_type": "code",
   "execution_count": 30,
   "metadata": {},
   "outputs": [
    {
     "data": {
      "text/html": [
       "<div>\n",
       "<style scoped>\n",
       "    .dataframe tbody tr th:only-of-type {\n",
       "        vertical-align: middle;\n",
       "    }\n",
       "\n",
       "    .dataframe tbody tr th {\n",
       "        vertical-align: top;\n",
       "    }\n",
       "\n",
       "    .dataframe thead th {\n",
       "        text-align: right;\n",
       "    }\n",
       "</style>\n",
       "<table border=\"1\" class=\"dataframe\">\n",
       "  <thead>\n",
       "    <tr style=\"text-align: right;\">\n",
       "      <th></th>\n",
       "      <th>Date</th>\n",
       "      <th>SPI</th>\n",
       "      <th>Year</th>\n",
       "    </tr>\n",
       "  </thead>\n",
       "  <tbody>\n",
       "    <tr>\n",
       "      <td>1775</td>\n",
       "      <td>2003-01-01</td>\n",
       "      <td>-1.77</td>\n",
       "      <td>2003</td>\n",
       "    </tr>\n",
       "    <tr>\n",
       "      <td>1776</td>\n",
       "      <td>2003-01-08</td>\n",
       "      <td>-1.57</td>\n",
       "      <td>2003</td>\n",
       "    </tr>\n",
       "    <tr>\n",
       "      <td>1777</td>\n",
       "      <td>2003-01-15</td>\n",
       "      <td>-0.21</td>\n",
       "      <td>2003</td>\n",
       "    </tr>\n",
       "    <tr>\n",
       "      <td>1778</td>\n",
       "      <td>2003-01-22</td>\n",
       "      <td>0.16</td>\n",
       "      <td>2003</td>\n",
       "    </tr>\n",
       "    <tr>\n",
       "      <td>1779</td>\n",
       "      <td>2003-01-29</td>\n",
       "      <td>0.32</td>\n",
       "      <td>2003</td>\n",
       "    </tr>\n",
       "    <tr>\n",
       "      <td>...</td>\n",
       "      <td>...</td>\n",
       "      <td>...</td>\n",
       "      <td>...</td>\n",
       "    </tr>\n",
       "    <tr>\n",
       "      <td>2654</td>\n",
       "      <td>2019-11-26</td>\n",
       "      <td>0.02</td>\n",
       "      <td>2019</td>\n",
       "    </tr>\n",
       "    <tr>\n",
       "      <td>2655</td>\n",
       "      <td>2019-12-03</td>\n",
       "      <td>0.16</td>\n",
       "      <td>2019</td>\n",
       "    </tr>\n",
       "    <tr>\n",
       "      <td>2656</td>\n",
       "      <td>2019-12-10</td>\n",
       "      <td>0.34</td>\n",
       "      <td>2019</td>\n",
       "    </tr>\n",
       "    <tr>\n",
       "      <td>2657</td>\n",
       "      <td>2019-12-17</td>\n",
       "      <td>-0.45</td>\n",
       "      <td>2019</td>\n",
       "    </tr>\n",
       "    <tr>\n",
       "      <td>2658</td>\n",
       "      <td>2019-12-24</td>\n",
       "      <td>0.91</td>\n",
       "      <td>2019</td>\n",
       "    </tr>\n",
       "  </tbody>\n",
       "</table>\n",
       "<p>468 rows × 3 columns</p>\n",
       "</div>"
      ],
      "text/plain": [
       "           Date   SPI  Year\n",
       "1775 2003-01-01 -1.77  2003\n",
       "1776 2003-01-08 -1.57  2003\n",
       "1777 2003-01-15 -0.21  2003\n",
       "1778 2003-01-22  0.16  2003\n",
       "1779 2003-01-29  0.32  2003\n",
       "...         ...   ...   ...\n",
       "2654 2019-11-26  0.02  2019\n",
       "2655 2019-12-03  0.16  2019\n",
       "2656 2019-12-10  0.34  2019\n",
       "2657 2019-12-17 -0.45  2019\n",
       "2658 2019-12-24  0.91  2019\n",
       "\n",
       "[468 rows x 3 columns]"
      ]
     },
     "execution_count": 30,
     "metadata": {},
     "output_type": "execute_result"
    }
   ],
   "source": [
    "df_year"
   ]
  },
  {
   "cell_type": "code",
   "execution_count": null,
   "metadata": {},
   "outputs": [],
   "source": []
  }
 ],
 "metadata": {
  "kernelspec": {
   "display_name": "Python 3",
   "language": "python",
   "name": "python3"
  },
  "language_info": {
   "codemirror_mode": {
    "name": "ipython",
    "version": 3
   },
   "file_extension": ".py",
   "mimetype": "text/x-python",
   "name": "python",
   "nbconvert_exporter": "python",
   "pygments_lexer": "ipython3",
   "version": "3.7.4"
  }
 },
 "nbformat": 4,
 "nbformat_minor": 2
}
